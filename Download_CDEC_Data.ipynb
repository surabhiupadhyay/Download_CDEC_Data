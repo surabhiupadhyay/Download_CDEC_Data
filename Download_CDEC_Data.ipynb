{
 "cells": [
  {
   "cell_type": "markdown",
   "id": "daf1107d",
   "metadata": {},
   "source": [
    "# Reservoir storage and elevation data download from Califonia Data Exchange Center (CDEC)"
   ]
  },
  {
   "cell_type": "markdown",
   "id": "f8594788",
   "metadata": {},
   "source": [
    "This code will help you download reservoir storage and elevation data from the Califonia Data Exchange Center (CDEC) from 1980 to 2023. \n",
    "\n",
    "Some informations!\n",
    "\n",
    "The CDEC reservoir list can be downloaded from this link: https://cdec.water.ca.gov/reportapp/javareports?name=ResInfo \n",
    "\n",
    "Stations: The station ID was extracted from the link above and the query search portal (https://cdec.water.ca.gov/dynamicapp/wsSensorData) was used to extract reservoir specific information. \n",
    "\n",
    "SensorNums: Sensor number are 2, 4, 6, 14, 15, 22, 30, 31, 32, 45, and 65. For details on the sensor information (see figure).\n",
    "\n",
    "dur_code: Hourly, Event and Daily has H, E, and D codes separately (see figure).\n",
    "\n",
    "Start: Start date of your required time period\n",
    "\n",
    "End: End date of your required time period"
   ]
  },
  {
   "cell_type": "code",
   "execution_count": null,
   "id": "d665c996",
   "metadata": {},
   "outputs": [],
   "source": [
    "import os\n",
    "import requests\n",
    "import pandas as pd\n",
    "from io import StringIO\n",
    "\n",
    "# To download daily reservoir elevation (Sensor 6 and duration D) for all the reservoirs from CDEC.\n",
    "# If you want to download for different variables and duration, change it in the sensornums and dur_code\n",
    "\n",
    "def download_cdec_data(station_id, sensor_numbers, start_date, end_date, output_dir):\n",
    "    base_url = 'https://cdec.water.ca.gov/dynamicapp/req/CSVDataServlet'\n",
    "    \n",
    "    all_data = pd.DataFrame()\n",
    "    \n",
    "    for sensor_number in sensor_numbers:\n",
    "        params = {\n",
    "            'Stations': station_id,\n",
    "            'SensorNums': sensor_number,\n",
    "            'dur_code': 'D',  # Daily data; change to 'H' for hourly or 'M' for monthly if needed\n",
    "            'Start': start_date,\n",
    "            'End': end_date\n",
    "        }\n",
    "        \n",
    "        response = requests.get(base_url, params=params)\n",
    "        \n",
    "        if response.status_code == 200 and response.text.strip():\n",
    "            # Load CSV data into a DataFrame\n",
    "            sensor_data = pd.read_csv(StringIO(response.text))\n",
    "            sensor_data['Sensor'] = sensor_number  # Add a column to distinguish sensor data\n",
    "            all_data = pd.concat([all_data, sensor_data])\n",
    "        else:\n",
    "            print(f\"No data available or failed to retrieve data for station {station_id} and sensor {sensor_number}\")\n",
    "    \n",
    "    if not all_data.empty:\n",
    "        # Save concatenated data to a CSV file in the output directory\n",
    "        csv_file_path = os.path.join(output_dir, f'{station_id}_ele.csv')\n",
    "        all_data.to_csv(csv_file_path, index=False)\n",
    "        print(f\"CSV data for station {station_id} saved to {csv_file_path}\")\n",
    "    else:\n",
    "        print(f\"No data available or failed to retrieve data for station {station_id}\")\n",
    "\n",
    "# Read the CSV file containing station IDs and other parameters\n",
    "csv_file_path = '/Users/surabhiupadhyay/Documents/_Research/Data/CDEC/CDEC_reservoir_list.csv'\n",
    "csv_data = pd.read_csv(csv_file_path)\n",
    "\n",
    "# Parameters for data retrieval\n",
    "sensor_numbers = ['6']  # Example sensor numbers, adjust as needed\n",
    "default_start_date = '1980-01-01'  # Default start date if not provided\n",
    "end_date = '2023-12-31'  # Example end date, adjust as needed\n",
    "\n",
    "# Define the output directory\n",
    "output_dir = '/Users/surabhiupadhyay/Documents/_Research/Data/CDEC/ele'\n",
    "os.makedirs(output_dir, exist_ok=True)\n",
    "\n",
    "# Loop through each row in the CSV file to fetch and save data\n",
    "for index, row in csv_data.iterrows():\n",
    "    station_id = row['ID']\n",
    "    start_date = row.get('StartDate', default_start_date)  # Use start date from CSV if available, else default\n",
    "\n",
    "    # Download data for each station\n",
    "    download_cdec_data(station_id, sensor_numbers, start_date, end_date, output_dir)"
   ]
  }
 ],
 "metadata": {
  "kernelspec": {
   "display_name": "Python 3 (ipykernel)",
   "language": "python",
   "name": "python3"
  },
  "language_info": {
   "codemirror_mode": {
    "name": "ipython",
    "version": 3
   },
   "file_extension": ".py",
   "mimetype": "text/x-python",
   "name": "python",
   "nbconvert_exporter": "python",
   "pygments_lexer": "ipython3",
   "version": "3.11.4"
  }
 },
 "nbformat": 4,
 "nbformat_minor": 5
}
